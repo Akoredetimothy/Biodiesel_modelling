{
 "cells": [
  {
   "cell_type": "code",
   "execution_count": 2,
   "id": "198d0247",
   "metadata": {},
   "outputs": [
    {
     "name": "stdout",
     "output_type": "stream",
     "text": [
      "Requirement already satisfied: matplotlib in /home/sage/anaconda3/lib/python3.11/site-packages (3.7.2)\n",
      "Requirement already satisfied: contourpy>=1.0.1 in /home/sage/anaconda3/lib/python3.11/site-packages (from matplotlib) (1.0.5)\n",
      "Requirement already satisfied: cycler>=0.10 in /home/sage/anaconda3/lib/python3.11/site-packages (from matplotlib) (0.11.0)\n",
      "Requirement already satisfied: fonttools>=4.22.0 in /home/sage/anaconda3/lib/python3.11/site-packages (from matplotlib) (4.25.0)\n",
      "Requirement already satisfied: kiwisolver>=1.0.1 in /home/sage/anaconda3/lib/python3.11/site-packages (from matplotlib) (1.4.4)\n",
      "Requirement already satisfied: numpy>=1.20 in /home/sage/anaconda3/lib/python3.11/site-packages (from matplotlib) (1.23.5)\n",
      "Requirement already satisfied: packaging>=20.0 in /home/sage/anaconda3/lib/python3.11/site-packages (from matplotlib) (23.1)\n",
      "Requirement already satisfied: pillow>=6.2.0 in /home/sage/anaconda3/lib/python3.11/site-packages (from matplotlib) (9.4.0)\n",
      "Requirement already satisfied: pyparsing<3.1,>=2.3.1 in /home/sage/anaconda3/lib/python3.11/site-packages (from matplotlib) (3.0.9)\n",
      "Requirement already satisfied: python-dateutil>=2.7 in /home/sage/anaconda3/lib/python3.11/site-packages (from matplotlib) (2.8.2)\n",
      "Requirement already satisfied: six>=1.5 in /home/sage/anaconda3/lib/python3.11/site-packages (from python-dateutil>=2.7->matplotlib) (1.16.0)\n"
     ]
    }
   ],
   "source": [
    "!pip install matplotlib"
   ]
  },
  {
   "cell_type": "code",
   "execution_count": 11,
   "id": "c12a7841",
   "metadata": {},
   "outputs": [],
   "source": [
    "import os\n",
    "import pandas as pd\n",
    "import numpy as np\n",
    "import torch\n",
    "import torch.nn as nn\n",
    "import torch.optim as optim\n",
    "from sklearn.model_selection import train_test_split\n",
    "from sklearn.preprocessing import StandardScaler, LabelEncoder\n",
    "from torch.utils.data import DataLoader, TensorDataset\n"
   ]
  },
  {
   "cell_type": "code",
   "execution_count": 12,
   "id": "23b60f0b",
   "metadata": {},
   "outputs": [],
   "source": [
    "file_paths = [\n",
    "    'bsfc_emission.csv', 'BTEemission.csv', 'CO2_emission.csv', 'CO_emission.csv', 'EGT_emission.csv','Engine_Perf_emission.csv', 'Engine_torq_emission.csv', 'HC_emission.csv', 'nox_emission.csv', 'Smoke_Opacity_emission.csv'\n",
    "]"
   ]
  },
  {
   "cell_type": "code",
   "execution_count": 13,
   "id": "82eaa989",
   "metadata": {},
   "outputs": [],
   "source": [
    "feature_names = [\n",
    "    'BSFC','BTE', 'CO2', 'CO', 'EGT', 'Engi_Perf', 'Eng_Tor', 'HC', 'NOX', 'Smoke_Opac'\n",
    "]"
   ]
  },
  {
   "cell_type": "code",
   "execution_count": 30,
   "id": "e4d0a4a9",
   "metadata": {},
   "outputs": [
    {
     "name": "stdout",
     "output_type": "stream",
     "text": [
      "Data Frames:\n",
      "Data Frame 1:\n",
      "   Engine Speed (rpm)  Brake Specific Fuel Consumption (kg/kWh)   BSFC\n",
      "0                1500                                  0.521134   B100\n",
      "1                1550                                  0.512828   B100\n",
      "2                1600                                  0.502318   B100\n",
      "3                1650                                  0.489948   B100\n",
      "4                1700                                  0.476066   B100\n",
      "\n",
      "Data Frame 2:\n",
      "   Engine Speed (rpm)        BTE  BIODIESEL_BLEND    BTE\n",
      "0                1500  18.233890              NaN   B100\n",
      "1                1550  18.581175              NaN   B100\n",
      "2                1600  19.053938              NaN   B100\n",
      "3                1650  19.633860              NaN   B100\n",
      "4                1700  20.302625              NaN   B100\n",
      "\n",
      "Data Frame 3:\n",
      "   Engine Speed (rpm)        CO2  BIODIESEL_BLEND    CO2\n",
      "0                1500  18.233890              NaN   B100\n",
      "1                1550  18.581175              NaN   B100\n",
      "2                1600  19.053938              NaN   B100\n",
      "3                1650  19.633860              NaN   B100\n",
      "4                1700  20.302625              NaN   B100\n",
      "\n",
      "Data Frame 4:\n",
      "   Engine Speed (rpm)         CO  BIODIESEL_BLEND     CO\n",
      "0                1500  18.233890              NaN   B100\n",
      "1                1550  18.581175              NaN   B100\n",
      "2                1600  19.053938              NaN   B100\n",
      "3                1650  19.633860              NaN   B100\n",
      "4                1700  20.302625              NaN   B100\n",
      "\n",
      "Data Frame 5:\n",
      "   Engine Speed (rpm)        EGT  BIODIESEL_BLEND    EGT\n",
      "0                1500  18.233890              NaN   B100\n",
      "1                1550  18.581175              NaN   B100\n",
      "2                1600  19.053938              NaN   B100\n",
      "3                1650  19.633860              NaN   B100\n",
      "4                1700  20.302625              NaN   B100\n",
      "\n",
      "Data Frame 6:\n",
      "   Engine Speed (rpm)  Engine_Perf  BIODIESEL_BLEND Engi_Perf\n",
      "0                1500    18.233890              NaN      B100\n",
      "1                1550    18.581175              NaN      B100\n",
      "2                1600    19.053938              NaN      B100\n",
      "3                1650    19.633860              NaN      B100\n",
      "4                1700    20.302625              NaN      B100\n",
      "\n",
      "Data Frame 7:\n",
      "   Engine Speed (rpm)  Engine_torq  BIODIESEL_BLEND Eng_Tor\n",
      "0                1500    18.233890              NaN    B100\n",
      "1                1550    18.581175              NaN    B100\n",
      "2                1600    19.053938              NaN    B100\n",
      "3                1650    19.633860              NaN    B100\n",
      "4                1700    20.302625              NaN    B100\n",
      "\n",
      "Data Frame 8:\n",
      "   Engine Speed (rpm)         HC  BIODIESEL_BLEND     HC\n",
      "0                1500  18.233890              NaN   B100\n",
      "1                1550  18.581175              NaN   B100\n",
      "2                1600  19.053938              NaN   B100\n",
      "3                1650  19.633860              NaN   B100\n",
      "4                1700  20.302625              NaN   B100\n",
      "\n",
      "Data Frame 9:\n",
      "   Engine Speed (rpm)  Nitrogen Oxides  BIODIESEL_BLEND  Oxide_of_nitrogen  \\\n",
      "0                1500              NaN              NaN          15.129310   \n",
      "1                1550              NaN              NaN          16.297969   \n",
      "2                1600              NaN              NaN          17.420172   \n",
      "3                1650              NaN              NaN          18.498928   \n",
      "4                1700              NaN              NaN          19.537241   \n",
      "\n",
      "     NOX  \n",
      "0   B100  \n",
      "1   B100  \n",
      "2   B100  \n",
      "3   B100  \n",
      "4   B100  \n",
      "\n",
      "Data Frame 10:\n",
      "   Engine Speed (rpm)  Smoke_Opacity  BIODIESEL_BLEND Smoke_Opac\n",
      "0                1500      18.233890              NaN       B100\n",
      "1                1550      18.581175              NaN       B100\n",
      "2                1600      19.053938              NaN       B100\n",
      "3                1650      19.633860              NaN       B100\n",
      "4                1700      20.302625              NaN       B100\n",
      "\n"
     ]
    }
   ],
   "source": [
    "data_frames = []\n",
    "for file_path, feature_name in zip(file_paths, feature_names):\n",
    "    df = pd.read_csv(file_path)\n",
    "    df.rename(columns={df.columns[-1]: feature_name}, inplace=True)\n",
    "    data_frames.append(df)\n",
    "    \n",
    "    \n",
    "print(\"Data Frames:\")\n",
    "for i, df in enumerate(data_frames):\n",
    "    print(f\"Data Frame {i+1}:\")\n",
    "    print(df.head(5))\n",
    "    print()"
   ]
  },
  {
   "cell_type": "code",
   "execution_count": null,
   "id": "705fb0c3",
   "metadata": {},
   "outputs": [],
   "source": []
  }
 ],
 "metadata": {
  "kernelspec": {
   "display_name": "Python 3 (ipykernel)",
   "language": "python",
   "name": "python3"
  },
  "language_info": {
   "codemirror_mode": {
    "name": "ipython",
    "version": 3
   },
   "file_extension": ".py",
   "mimetype": "text/x-python",
   "name": "python",
   "nbconvert_exporter": "python",
   "pygments_lexer": "ipython3",
   "version": "3.11.5"
  }
 },
 "nbformat": 4,
 "nbformat_minor": 5
}
